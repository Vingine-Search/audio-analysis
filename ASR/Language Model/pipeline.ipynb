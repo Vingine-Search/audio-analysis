{
 "cells": [
  {
   "cell_type": "code",
   "execution_count": null,
   "metadata": {},
   "outputs": [],
   "source": [
    "import Utils.utils as ut\n",
    "import Utils.models as lm"
   ]
  },
  {
   "cell_type": "code",
   "execution_count": null,
   "metadata": {},
   "outputs": [],
   "source": [
    "# load vocab\n",
    "vocab = ut.loadVocab(\"librispeech.top10k.vocab\")"
   ]
  },
  {
   "cell_type": "code",
   "execution_count": null,
   "metadata": {},
   "outputs": [],
   "source": [
    "# load training data\n",
    "###################### TODO ######################\n",
    "# Download the trainig data by the following command: wget https://www.openslr.org/resources/11/librispeech-lm-norm.txt.gz\n",
    "# Then unzip the file by the following command: gunzip librispeech-lm-norm.txt.gz\n",
    "# Then update the dataDir to the path of the unzipped file\n",
    "dataDir = \"example.txt\"\n",
    "train_data = ut.loadData(dataDir)"
   ]
  },
  {
   "cell_type": "code",
   "execution_count": null,
   "metadata": {},
   "outputs": [],
   "source": [
    "# preprocess the training data \n",
    "preprocessed_train_data = ut.preprocess(train_data)"
   ]
  },
  {
   "cell_type": "code",
   "execution_count": null,
   "metadata": {},
   "outputs": [],
   "source": [
    "# create the language models\n",
    "unigramLM = lm.UnigramLM(vocab)\n",
    "bigramLM = lm.BigramLM(vocab)\n",
    "trigramLM = lm.TrigramLM(vocab)"
   ]
  },
  {
   "cell_type": "code",
   "execution_count": null,
   "metadata": {},
   "outputs": [],
   "source": [
    "# train the language models\n",
    "unigramLM.train(preprocessed_train_data)\n",
    "bigramLM.train(preprocessed_train_data)\n",
    "trigramLM.train(preprocessed_train_data)"
   ]
  },
  {
   "cell_type": "code",
   "execution_count": null,
   "metadata": {},
   "outputs": [],
   "source": [
    "# save the language models\n",
    "ut.saveModel(unigramLM, \"models/uni-gram-model.pkl\")\n",
    "ut.saveModel(unigramLM, \"models/bi-gram-model.pkl\")\n",
    "ut.saveModel(unigramLM, \"models/tri-gram-model.pkl\")"
   ]
  },
  {
   "cell_type": "code",
   "execution_count": null,
   "metadata": {},
   "outputs": [],
   "source": []
  }
 ],
 "metadata": {
  "kernelspec": {
   "display_name": "Python 3",
   "language": "python",
   "name": "python3"
  },
  "language_info": {
   "name": "python",
   "version": "3.8.8"
  },
  "orig_nbformat": 4,
  "vscode": {
   "interpreter": {
    "hash": "fec95fd10246d3675c857d99c06e614538aa45af80e04d372d349b1024475d6a"
   }
  }
 },
 "nbformat": 4,
 "nbformat_minor": 2
}
